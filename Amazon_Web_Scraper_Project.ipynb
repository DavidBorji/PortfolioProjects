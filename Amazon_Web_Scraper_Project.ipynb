{
  "nbformat": 4,
  "nbformat_minor": 0,
  "metadata": {
    "colab": {
      "provenance": []
    },
    "kernelspec": {
      "name": "python3",
      "display_name": "Python 3"
    },
    "language_info": {
      "name": "python"
    }
  },
  "cells": [
    {
      "cell_type": "code",
      "execution_count": 1,
      "metadata": {
        "id": "Pt9ALXEJCw6a"
      },
      "outputs": [],
      "source": [
        "#import libraries\n",
        "from bs4 import BeautifulSoup\n",
        "import requests\n",
        "import time\n",
        "import datetime\n",
        "import smtplib"
      ]
    },
    {
      "cell_type": "code",
      "source": [
        "\n",
        "\n",
        "URL = 'https://www.amazon.com/Funny-Data-Systems-Business-Analyst/dp/B07FNW9FGJ'\n",
        "headers = {\n",
        "    \"User-Agent\": \"Mozilla/5.0 (Windows NT 10.0; Win64; x64) AppleWebKit/537.36 (KHTML, like Gecko) Chrome/130.0.0.0 Safari/537.36 Edg/130.0.0.0\",\n",
        "    \"Accept-Encoding\": \"gzip, deflate\",\n",
        "    \"Accept\": \"text/html,application/xhtml+xml,application/xml;q=0.9,*/*;q=0.8\",\n",
        "    \"DNT\": \"1\",\n",
        "    \"Connection\": \"close\",\n",
        "    \"Upgrade-Insecure-Requests\": \"1\"\n",
        "}\n",
        "\n",
        "# Make the request\n",
        "page = requests.get(URL, headers=headers)\n",
        "soup = BeautifulSoup(page.content, \"html.parser\")\n",
        "\n",
        "# Extract the title\n",
        "title = soup.find(id='productTitle').get_text().strip()\n",
        "\n",
        "# Extract the price symbol, whole part, and fractional part\n",
        "#price_symbol = soup.find(\"span\", {\"class\": \"a-price-symbol\"})\n",
        "price_whole = soup.find(\"span\", {\"class\": \"a-price-whole\"})\n",
        "price_fraction = soup.find(\"span\", {\"class\": \"a-price-fraction\"})\n",
        "\n",
        "# Combine symbol, whole, and fraction parts of the price if they are found\n",
        "if  price_whole and price_fraction:\n",
        "    price = f\"{price_whole.get_text()}{price_fraction.get_text()}\"\n",
        "else:\n",
        "    price = \"Price not available\"\n",
        "\n",
        "print(title)\n",
        "print(price)\n"
      ],
      "metadata": {
        "colab": {
          "base_uri": "https://localhost:8080/"
        },
        "id": "UNmQfHjLEHHu",
        "outputId": "1b050be3-5f87-4e83-b81f-a256d873dc65"
      },
      "execution_count": 16,
      "outputs": [
        {
          "output_type": "stream",
          "name": "stdout",
          "text": [
            "Funny Got Data MIS Data Systems Business Analyst T-Shirt\n",
            "16.99\n"
          ]
        }
      ]
    },
    {
      "cell_type": "code",
      "source": [
        "price.strip()"
      ],
      "metadata": {
        "colab": {
          "base_uri": "https://localhost:8080/",
          "height": 35
        },
        "id": "YEudI16UK-Rd",
        "outputId": "2d6bf6e8-7618-42b7-f343-1a9998560217"
      },
      "execution_count": 17,
      "outputs": [
        {
          "output_type": "execute_result",
          "data": {
            "text/plain": [
              "'16.99'"
            ],
            "application/vnd.google.colaboratory.intrinsic+json": {
              "type": "string"
            }
          },
          "metadata": {},
          "execution_count": 17
        }
      ]
    },
    {
      "cell_type": "code",
      "source": [
        "# Create a Timestamp for your output to track when data was collected\n",
        "\n",
        "import datetime\n",
        "\n",
        "today = datetime.date.today()\n",
        "\n",
        "print(today)"
      ],
      "metadata": {
        "colab": {
          "base_uri": "https://localhost:8080/"
        },
        "id": "GvuktH3NLCFq",
        "outputId": "6e8aa774-ea11-4abd-a8c2-50078794d0a4"
      },
      "execution_count": 18,
      "outputs": [
        {
          "output_type": "stream",
          "name": "stdout",
          "text": [
            "2024-10-31\n"
          ]
        }
      ]
    },
    {
      "cell_type": "code",
      "source": [
        "# Create CSV and write headers and data into the file\n",
        "\n",
        "import csv\n",
        "\n",
        "header = ['Title', 'Price', 'Date']\n",
        "data = [title, price, today]\n",
        "\n",
        "\n",
        "with open('AmazonWebScraperDataset.csv', 'w', newline='', encoding='UTF8') as f:\n",
        "    writer = csv.writer(f)\n",
        "    writer.writerow(header)\n",
        "    writer.writerow(data)\n",
        "\n",
        "import pandas as pd\n",
        "\n",
        "# Read the CSV file into a DataFrame\n",
        "df = pd.read_csv('AmazonWebScraperDataset.csv')\n",
        "\n",
        "# Display the first few rows\n",
        "df.head()\n"
      ],
      "metadata": {
        "colab": {
          "base_uri": "https://localhost:8080/",
          "height": 81
        },
        "id": "Vog9jX6-MuMQ",
        "outputId": "d006477f-5b55-4c0a-b5f5-40ed86701c38"
      },
      "execution_count": 22,
      "outputs": [
        {
          "output_type": "execute_result",
          "data": {
            "text/plain": [
              "                                               Title  Price        Date\n",
              "0  Funny Got Data MIS Data Systems Business Analy...  16.99  2024-10-31"
            ],
            "text/html": [
              "\n",
              "  <div id=\"df-a1e39963-7628-44df-91a3-c74b53fe402b\" class=\"colab-df-container\">\n",
              "    <div>\n",
              "<style scoped>\n",
              "    .dataframe tbody tr th:only-of-type {\n",
              "        vertical-align: middle;\n",
              "    }\n",
              "\n",
              "    .dataframe tbody tr th {\n",
              "        vertical-align: top;\n",
              "    }\n",
              "\n",
              "    .dataframe thead th {\n",
              "        text-align: right;\n",
              "    }\n",
              "</style>\n",
              "<table border=\"1\" class=\"dataframe\">\n",
              "  <thead>\n",
              "    <tr style=\"text-align: right;\">\n",
              "      <th></th>\n",
              "      <th>Title</th>\n",
              "      <th>Price</th>\n",
              "      <th>Date</th>\n",
              "    </tr>\n",
              "  </thead>\n",
              "  <tbody>\n",
              "    <tr>\n",
              "      <th>0</th>\n",
              "      <td>Funny Got Data MIS Data Systems Business Analy...</td>\n",
              "      <td>16.99</td>\n",
              "      <td>2024-10-31</td>\n",
              "    </tr>\n",
              "  </tbody>\n",
              "</table>\n",
              "</div>\n",
              "    <div class=\"colab-df-buttons\">\n",
              "\n",
              "  <div class=\"colab-df-container\">\n",
              "    <button class=\"colab-df-convert\" onclick=\"convertToInteractive('df-a1e39963-7628-44df-91a3-c74b53fe402b')\"\n",
              "            title=\"Convert this dataframe to an interactive table.\"\n",
              "            style=\"display:none;\">\n",
              "\n",
              "  <svg xmlns=\"http://www.w3.org/2000/svg\" height=\"24px\" viewBox=\"0 -960 960 960\">\n",
              "    <path d=\"M120-120v-720h720v720H120Zm60-500h600v-160H180v160Zm220 220h160v-160H400v160Zm0 220h160v-160H400v160ZM180-400h160v-160H180v160Zm440 0h160v-160H620v160ZM180-180h160v-160H180v160Zm440 0h160v-160H620v160Z\"/>\n",
              "  </svg>\n",
              "    </button>\n",
              "\n",
              "  <style>\n",
              "    .colab-df-container {\n",
              "      display:flex;\n",
              "      gap: 12px;\n",
              "    }\n",
              "\n",
              "    .colab-df-convert {\n",
              "      background-color: #E8F0FE;\n",
              "      border: none;\n",
              "      border-radius: 50%;\n",
              "      cursor: pointer;\n",
              "      display: none;\n",
              "      fill: #1967D2;\n",
              "      height: 32px;\n",
              "      padding: 0 0 0 0;\n",
              "      width: 32px;\n",
              "    }\n",
              "\n",
              "    .colab-df-convert:hover {\n",
              "      background-color: #E2EBFA;\n",
              "      box-shadow: 0px 1px 2px rgba(60, 64, 67, 0.3), 0px 1px 3px 1px rgba(60, 64, 67, 0.15);\n",
              "      fill: #174EA6;\n",
              "    }\n",
              "\n",
              "    .colab-df-buttons div {\n",
              "      margin-bottom: 4px;\n",
              "    }\n",
              "\n",
              "    [theme=dark] .colab-df-convert {\n",
              "      background-color: #3B4455;\n",
              "      fill: #D2E3FC;\n",
              "    }\n",
              "\n",
              "    [theme=dark] .colab-df-convert:hover {\n",
              "      background-color: #434B5C;\n",
              "      box-shadow: 0px 1px 3px 1px rgba(0, 0, 0, 0.15);\n",
              "      filter: drop-shadow(0px 1px 2px rgba(0, 0, 0, 0.3));\n",
              "      fill: #FFFFFF;\n",
              "    }\n",
              "  </style>\n",
              "\n",
              "    <script>\n",
              "      const buttonEl =\n",
              "        document.querySelector('#df-a1e39963-7628-44df-91a3-c74b53fe402b button.colab-df-convert');\n",
              "      buttonEl.style.display =\n",
              "        google.colab.kernel.accessAllowed ? 'block' : 'none';\n",
              "\n",
              "      async function convertToInteractive(key) {\n",
              "        const element = document.querySelector('#df-a1e39963-7628-44df-91a3-c74b53fe402b');\n",
              "        const dataTable =\n",
              "          await google.colab.kernel.invokeFunction('convertToInteractive',\n",
              "                                                    [key], {});\n",
              "        if (!dataTable) return;\n",
              "\n",
              "        const docLinkHtml = 'Like what you see? Visit the ' +\n",
              "          '<a target=\"_blank\" href=https://colab.research.google.com/notebooks/data_table.ipynb>data table notebook</a>'\n",
              "          + ' to learn more about interactive tables.';\n",
              "        element.innerHTML = '';\n",
              "        dataTable['output_type'] = 'display_data';\n",
              "        await google.colab.output.renderOutput(dataTable, element);\n",
              "        const docLink = document.createElement('div');\n",
              "        docLink.innerHTML = docLinkHtml;\n",
              "        element.appendChild(docLink);\n",
              "      }\n",
              "    </script>\n",
              "  </div>\n",
              "\n",
              "\n",
              "    </div>\n",
              "  </div>\n"
            ],
            "application/vnd.google.colaboratory.intrinsic+json": {
              "type": "dataframe",
              "variable_name": "df",
              "summary": "{\n  \"name\": \"df\",\n  \"rows\": 1,\n  \"fields\": [\n    {\n      \"column\": \"Title\",\n      \"properties\": {\n        \"dtype\": \"string\",\n        \"num_unique_values\": 1,\n        \"samples\": [\n          \"Funny Got Data MIS Data Systems Business Analyst T-Shirt\"\n        ],\n        \"semantic_type\": \"\",\n        \"description\": \"\"\n      }\n    },\n    {\n      \"column\": \"Price\",\n      \"properties\": {\n        \"dtype\": \"number\",\n        \"std\": null,\n        \"min\": 16.99,\n        \"max\": 16.99,\n        \"num_unique_values\": 1,\n        \"samples\": [\n          16.99\n        ],\n        \"semantic_type\": \"\",\n        \"description\": \"\"\n      }\n    },\n    {\n      \"column\": \"Date\",\n      \"properties\": {\n        \"dtype\": \"object\",\n        \"num_unique_values\": 1,\n        \"samples\": [\n          \"2024-10-31\"\n        ],\n        \"semantic_type\": \"\",\n        \"description\": \"\"\n      }\n    }\n  ]\n}"
            }
          },
          "metadata": {},
          "execution_count": 22
        }
      ]
    },
    {
      "cell_type": "code",
      "source": [
        "def check_price():\n",
        "    # URL and headers for Amazon request\n",
        "    URL = 'https://www.amazon.com/Funny-Data-Systems-Business-Analyst/dp/B07FNW9FGJ'\n",
        "    headers = {\n",
        "        \"User-Agent\": \"Mozilla/5.0 (Windows NT 10.0; Win64; x64) AppleWebKit/537.36 (KHTML, like Gecko) Chrome/130.0.0.0 Safari/537.36 Edg/130.0.0.0\",\n",
        "        \"Accept-Encoding\": \"gzip, deflate\",\n",
        "        \"Accept\": \"text/html,application/xhtml+xml,application/xml;q=0.9,*/*;q=0.8\",\n",
        "        \"DNT\": \"1\",\n",
        "        \"Connection\": \"close\",\n",
        "        \"Upgrade-Insecure-Requests\": \"1\"\n",
        "    }\n",
        "\n",
        "    # Make the request\n",
        "    page = requests.get(URL, headers=headers)\n",
        "    soup = BeautifulSoup(page.content, \"html.parser\")\n",
        "\n",
        "    # Extract the title\n",
        "    title = soup.find(id='productTitle').get_text().strip()\n",
        "\n",
        "    # Extract the price\n",
        "    price_whole = soup.find(\"span\", {\"class\": \"a-price-whole\"})\n",
        "    price_fraction = soup.find(\"span\", {\"class\": \"a-price-fraction\"})\n",
        "\n",
        "    # Combine whole and fraction parts of the price carefully\n",
        "    if price_whole and price_fraction:\n",
        "        price = price_whole.get_text() + price_fraction.get_text()\n",
        "    elif price_whole:\n",
        "        price = price_whole.get_text()\n",
        "    else:\n",
        "        price = \"Price not available\"\n",
        "\n",
        "    print(title)\n",
        "    print(price)\n",
        "\n",
        "    # Convert price to a float\n",
        "    try:\n",
        "        price = float(price.replace(\",\", \"\"))\n",
        "    except ValueError:\n",
        "        print(\"Failed to convert price to float.\")\n",
        "        return\n",
        "\n",
        "    # Save data to CSV\n",
        "    today = datetime.date.today()\n",
        "    header = ['Title', 'Price', 'Date']\n",
        "    data = [title, price, today]\n",
        "\n",
        "    with open('AmazonWebScraperDataset.csv', 'a+', newline='', encoding='UTF8') as f:\n",
        "        writer = csv.writer(f)\n",
        "        writer.writerow(data)\n",
        "\n",
        "    # Check if price is below threshold and send SMS if so\n",
        "    if price < 14:\n",
        "        send_sms()\n",
        "\n",
        "    # Display CSV data using pandas\n",
        "    df = pd.read_csv('AmazonWebScraperDataset.csv')\n",
        "    print(df.head())\n",
        "\n"
      ],
      "metadata": {
        "id": "WqrmJ2VqPpkp"
      },
      "execution_count": 45,
      "outputs": []
    },
    {
      "cell_type": "code",
      "source": [
        "\n",
        "# Run the price check daily\n",
        "while True:\n",
        "    check_price()\n",
        "    time.sleep(86400)  # Check once per day"
      ],
      "metadata": {
        "colab": {
          "base_uri": "https://localhost:8080/",
          "height": 323
        },
        "id": "PJBN7tH1QbIn",
        "outputId": "ce7e5100-c519-43f7-c96c-e555b27979ff"
      },
      "execution_count": 46,
      "outputs": [
        {
          "output_type": "stream",
          "name": "stdout",
          "text": [
            "Funny Got Data MIS Data Systems Business Analyst T-Shirt\n",
            "16.99\n",
            "                                               Title  Price        Date\n",
            "0  Funny Got Data MIS Data Systems Business Analy...  16.99  2024-10-31\n",
            "1  Funny Got Data MIS Data Systems Business Analy...  16.99  2024-10-31\n",
            "2  Funny Got Data MIS Data Systems Business Analy...  16.99  2024-10-31\n",
            "3  Funny Got Data MIS Data Systems Business Analy...  16.99  2024-10-31\n",
            "4  Funny Got Data MIS Data Systems Business Analy...  16.99  2024-10-31\n"
          ]
        },
        {
          "output_type": "error",
          "ename": "KeyboardInterrupt",
          "evalue": "",
          "traceback": [
            "\u001b[0;31m---------------------------------------------------------------------------\u001b[0m",
            "\u001b[0;31mKeyboardInterrupt\u001b[0m                         Traceback (most recent call last)",
            "\u001b[0;32m<ipython-input-46-4d94ca7b5de9>\u001b[0m in \u001b[0;36m<cell line: 2>\u001b[0;34m()\u001b[0m\n\u001b[1;32m      2\u001b[0m \u001b[0;32mwhile\u001b[0m \u001b[0;32mTrue\u001b[0m\u001b[0;34m:\u001b[0m\u001b[0;34m\u001b[0m\u001b[0;34m\u001b[0m\u001b[0m\n\u001b[1;32m      3\u001b[0m     \u001b[0mcheck_price\u001b[0m\u001b[0;34m(\u001b[0m\u001b[0;34m)\u001b[0m\u001b[0;34m\u001b[0m\u001b[0;34m\u001b[0m\u001b[0m\n\u001b[0;32m----> 4\u001b[0;31m     \u001b[0mtime\u001b[0m\u001b[0;34m.\u001b[0m\u001b[0msleep\u001b[0m\u001b[0;34m(\u001b[0m\u001b[0;36m86400\u001b[0m\u001b[0;34m)\u001b[0m  \u001b[0;31m# Check once per day\u001b[0m\u001b[0;34m\u001b[0m\u001b[0;34m\u001b[0m\u001b[0m\n\u001b[0m",
            "\u001b[0;31mKeyboardInterrupt\u001b[0m: "
          ]
        }
      ]
    },
    {
      "cell_type": "code",
      "source": [
        "def send_mail():\n",
        "    server = smtplib.SMTP_SSL('smtp.gmail.com', 465)\n",
        "    server.ehlo()\n",
        "    server.login('david.borji@gmail.com', 'xxxxxxxxxxxxxxxxx')\n",
        "\n",
        "    subject = \"The Shirt you want is below $15! Now is your chance to buy!\"\n",
        "    body = \"David, This is the moment we have been waiting for. Now is your chance to pick up the shirt of your dreams. Don't mess it up! Link here: https://www.amazon.com/Funny-Data-Systems-Business-Analyst/dp/B07FNW9FGJ\"\n",
        "    msg = f\"Subject: {subject}\\n\\n{body}\"\n",
        "\n",
        "    server.sendmail(\n",
        "        'david.borji@gmail.com',\n",
        "        msg\n",
        "    )\n",
        "    server.quit()\n",
        "\n"
      ],
      "metadata": {
        "id": "4XpmAXEiTWlO"
      },
      "execution_count": 36,
      "outputs": []
    },
    {
      "cell_type": "code",
      "source": [
        "import requests\n",
        "\n",
        "def send_sms():\n",
        "    response = requests.post('https://textbelt.com/text', {\n",
        "      'phone': '+16138699304',\n",
        "      'message': 'The Shirt you want is below $15! Check it out here: https://www.amazon.com/Funny-Data-Systems-Business-Analyst/dp/B07FNW9FGJ',\n",
        "      'key': 'textbelt'  # 'textbelt' is a free key; limited usage\n",
        "    })\n",
        "\n",
        "    print(response.json())"
      ],
      "metadata": {
        "id": "70XGE4EYWwKq"
      },
      "execution_count": 42,
      "outputs": []
    }
  ]
}